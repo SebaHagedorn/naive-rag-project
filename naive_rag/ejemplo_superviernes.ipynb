{
 "cells": [
  {
   "cell_type": "markdown",
   "metadata": {},
   "source": [
    "# 0. Configuración inicial:"
   ]
  },
  {
   "cell_type": "code",
   "execution_count": 55,
   "metadata": {},
   "outputs": [],
   "source": [
    "from uuid import uuid4\n",
    "\n",
    "import fitz\n",
    "import tiktoken\n",
    "from langchain_chroma import Chroma\n",
    "from langchain_core.prompts.prompt import PromptTemplate\n",
    "from langchain_openai import ChatOpenAI, OpenAIEmbeddings\n",
    "from langchain_text_splitters import RecursiveCharacterTextSplitter"
   ]
  },
  {
   "cell_type": "code",
   "execution_count": 56,
   "metadata": {},
   "outputs": [],
   "source": [
    "from naive_rag import config"
   ]
  },
  {
   "cell_type": "code",
   "execution_count": 57,
   "metadata": {},
   "outputs": [],
   "source": [
    "OPENAI_EMBEDDING_PRICE_PER_1_M = 0.02\n",
    "\n",
    "OPENAI_GPT_4O_MINI_INPUT_PER_1M = 0.150\n",
    "OPENAI_GPT_4O_MINI_OUTPUT_PER_1M = 0.6"
   ]
  },
  {
   "cell_type": "markdown",
   "metadata": {},
   "source": [
    "# 1. Cargamos los datos no estructurados:"
   ]
  },
  {
   "cell_type": "markdown",
   "metadata": {},
   "source": [
    "Vamos a utilizar la constitución chilena como ejemplo:"
   ]
  },
  {
   "cell_type": "code",
   "execution_count": 58,
   "metadata": {},
   "outputs": [],
   "source": [
    "def read_pdf_with_fitz(pdf_path):\n",
    "    \"\"\"Read text from a PDF file using fitz.\"\"\"\n",
    "    try:\n",
    "        text = ''\n",
    "        with fitz.open(pdf_path) as pdf:\n",
    "            for page_num in range(len(pdf)):\n",
    "                page = pdf[page_num]\n",
    "                text += page.get_text() + '\\n'\n",
    "        return text.strip()\n",
    "    except Exception as e:\n",
    "        return f'An error occurred: {e}'"
   ]
  },
  {
   "cell_type": "code",
   "execution_count": 59,
   "metadata": {},
   "outputs": [],
   "source": [
    "constitucion_texto = read_pdf_with_fitz(config.DIR_PATH / 'data' / 'constitucion.pdf')"
   ]
  },
  {
   "cell_type": "markdown",
   "metadata": {},
   "source": [
    "Veamos un extracto:"
   ]
  },
  {
   "cell_type": "code",
   "execution_count": 60,
   "metadata": {},
   "outputs": [
    {
     "name": "stdout",
     "output_type": "stream",
     "text": [
      " permitan a \n",
      "todos y a cada uno de los integrantes de la comunidad nacional su mayor realización \n",
      "espiritual y material posible, con pleno respeto a los derechos y garantías que esta \n",
      "Constitución establece.  \n",
      " \n",
      "Es deber del Estado resguardar la seguridad nacional, dar protección a la \n",
      "población y a la familia, propender al fortalecimiento de ésta, promover la integración \n",
      "armónica de todos los sectores de la Nación y asegurar el derecho de las personas a \n",
      "participar con igualdad de oportunidades en la vida nacional.  \n",
      " \n",
      " \n",
      " \n",
      " \n",
      "1 Texto actualizado al 1 de octubre de 2005. Incluye las reformas introducidas por las leyes 18.825, 19.055, 19.097, 19.295, \n",
      "19.448 , 19.519, 19.526 , 19.541, 19.597, 19.611, 19.634, 19.643 , 19.671, 19.672, 19.742 ;\n"
     ]
    }
   ],
   "source": [
    "print(constitucion_texto[3000:3750])"
   ]
  },
  {
   "cell_type": "markdown",
   "metadata": {},
   "source": [
    "# 2. Dividimos los documentos en Chunks:"
   ]
  },
  {
   "cell_type": "markdown",
   "metadata": {},
   "source": [
    "Definimos un text splitter que va a dividir cada dato en *chunks* de texto."
   ]
  },
  {
   "cell_type": "code",
   "execution_count": 61,
   "metadata": {},
   "outputs": [],
   "source": [
    "text_splitter = RecursiveCharacterTextSplitter(\n",
    "    chunk_size=1024,\n",
    "    chunk_overlap=64,\n",
    "    length_function=len,\n",
    "    is_separator_regex=True,  # defaulting to [\"\\n\\n\", \"\\n\", \" \", \"\"]\n",
    ")"
   ]
  },
  {
   "cell_type": "code",
   "execution_count": 62,
   "metadata": {},
   "outputs": [],
   "source": [
    "documents = text_splitter.create_documents([constitucion_texto])"
   ]
  },
  {
   "cell_type": "markdown",
   "metadata": {},
   "source": [
    "Se generan documentos, que poseen dos atributos: **metadata** y **page_content**."
   ]
  },
  {
   "cell_type": "code",
   "execution_count": 63,
   "metadata": {},
   "outputs": [
    {
     "data": {
      "text/plain": [
       "Document(metadata={}, page_content='CONSTITUCIÓN POLÍTICA DE LA REPÚBLICA \\n \\n \\n \\n \\n \\n \\n \\n \\n \\n \\n \\nTexto actualizado a octubre  de 2010 \\n \\n \\n \\n \\n \\n\\n \\n \\n2')"
      ]
     },
     "execution_count": 63,
     "metadata": {},
     "output_type": "execute_result"
    }
   ],
   "source": [
    "documents[0]"
   ]
  },
  {
   "cell_type": "code",
   "execution_count": 64,
   "metadata": {},
   "outputs": [
    {
     "name": "stdout",
     "output_type": "stream",
     "text": [
      "Generamos 337 documentos\n"
     ]
    }
   ],
   "source": [
    "print(f'Generamos {len(documents)} documentos')"
   ]
  },
  {
   "cell_type": "markdown",
   "metadata": {},
   "source": [
    "# 3. Estimación de costo:"
   ]
  },
  {
   "cell_type": "markdown",
   "metadata": {},
   "source": [
    "Un paso importante siempre es estimar el costo:"
   ]
  },
  {
   "cell_type": "code",
   "execution_count": 65,
   "metadata": {},
   "outputs": [],
   "source": [
    "def count_tokens(text: str, model: str) -> int:\n",
    "    \"\"\"Count the number of tokens in a text string for the OpenAI model.\"\"\"\n",
    "    encoding = tiktoken.encoding_for_model(model)\n",
    "\n",
    "    return len(encoding.encode(text))"
   ]
  },
  {
   "cell_type": "code",
   "execution_count": 66,
   "metadata": {},
   "outputs": [],
   "source": [
    "tokens_documentos = sum([count_tokens(doc.page_content, 'text-embedding-3-small') for doc in documents])"
   ]
  },
  {
   "cell_type": "code",
   "execution_count": 67,
   "metadata": {},
   "outputs": [
    {
     "data": {
      "text/plain": [
       "0.06501040000000001"
      ]
     },
     "execution_count": 67,
     "metadata": {},
     "output_type": "execute_result"
    }
   ],
   "source": [
    "(tokens_documentos / 1_000_000) * OPENAI_EMBEDDING_PRICE_PER_1_M * 40"
   ]
  },
  {
   "cell_type": "code",
   "execution_count": 68,
   "metadata": {},
   "outputs": [],
   "source": [
    "ejemplo_input_string = '¿Qué derechos protege la Constitución?'"
   ]
  },
  {
   "cell_type": "code",
   "execution_count": 69,
   "metadata": {},
   "outputs": [],
   "source": [
    "ejemplo_output_string = 'Artículo 19. La Constitución asegura a todas las personas: 1°. El derecho a la vida y a la integridad física y psíquica de la persona'  # noqa: E501"
   ]
  },
  {
   "cell_type": "code",
   "execution_count": 70,
   "metadata": {},
   "outputs": [],
   "source": [
    "precio_input = (count_tokens(ejemplo_input_string, 'gpt-4o-mini') / 1_000_000) * OPENAI_GPT_4O_MINI_INPUT_PER_1M\n",
    "precio_output = (count_tokens(ejemplo_output_string, 'gpt-4o-mini') / 1_000_000) * OPENAI_GPT_4O_MINI_OUTPUT_PER_1M"
   ]
  },
  {
   "cell_type": "code",
   "execution_count": 71,
   "metadata": {},
   "outputs": [
    {
     "data": {
      "text/plain": [
       "0.008280000000000001"
      ]
     },
     "execution_count": 71,
     "metadata": {},
     "output_type": "execute_result"
    }
   ],
   "source": [
    "(precio_input + precio_output) * 10 * 40"
   ]
  },
  {
   "cell_type": "markdown",
   "metadata": {},
   "source": [
    "# 4. Ingestamos los documentos en la vector store:"
   ]
  },
  {
   "cell_type": "code",
   "execution_count": 72,
   "metadata": {},
   "outputs": [],
   "source": [
    "embedding_model = OpenAIEmbeddings(model='text-embedding-3-small', api_key=config.OPENAI_API_KEY)"
   ]
  },
  {
   "cell_type": "code",
   "execution_count": 73,
   "metadata": {},
   "outputs": [],
   "source": [
    "vector_store = Chroma(\n",
    "    collection_name='legal-data',\n",
    "    embedding_function=embedding_model,\n",
    ")"
   ]
  },
  {
   "cell_type": "code",
   "execution_count": 74,
   "metadata": {},
   "outputs": [],
   "source": [
    "uuids = [str(uuid4()) for _ in range(len(documents))]\n",
    "\n",
    "_ = vector_store.add_documents(documents=documents, ids=uuids)"
   ]
  },
  {
   "cell_type": "markdown",
   "metadata": {},
   "source": [
    "Definimos una función para recopilar documentos según similitud:"
   ]
  },
  {
   "cell_type": "code",
   "execution_count": 75,
   "metadata": {},
   "outputs": [],
   "source": [
    "def retrieve(question: str) -> str:\n",
    "    \"\"\"Retrieve the top 3 most similar documents to a question.\"\"\"\n",
    "    retrieved_docs = vector_store.similarity_search(question, k=3)\n",
    "    return ';'.join([doc.page_content for doc in retrieved_docs])"
   ]
  },
  {
   "cell_type": "markdown",
   "metadata": {},
   "source": [
    "# 5. Instanciamos el modelo de lenguaje:"
   ]
  },
  {
   "cell_type": "markdown",
   "metadata": {},
   "source": [
    "Creamos un prompt para nuestro RAG:"
   ]
  },
  {
   "cell_type": "code",
   "execution_count": 76,
   "metadata": {},
   "outputs": [],
   "source": [
    "template = \"\"\"\n",
    "Eres un asistente que ayuda a los estudiantes de derecho a encontrar información en la Constitución de Chile.\n",
    "\n",
    "La pregunta es: {question}\n",
    "\n",
    "Debes responder solo utilizando el contenido del siguiente contexto entregado:\n",
    "\n",
    "{context}\n",
    "\n",
    "Tu respuesta debe ser respondida como un académico del derecho. Debes ser precisa tu respuesta, no te extiendas innecesariamente.\n",
    "\n",
    "Entrégame la fuente de tu respuesta sin modificar el extracto del contexto entregado para que pueda verificar la información.\n",
    "\"\"\"  # noqa: E501"
   ]
  },
  {
   "cell_type": "code",
   "execution_count": 77,
   "metadata": {},
   "outputs": [],
   "source": [
    "prompt = PromptTemplate(input_variables=['question', 'context'], template=template)"
   ]
  },
  {
   "cell_type": "markdown",
   "metadata": {},
   "source": [
    "Instanciamos el modelo de OpenAI:"
   ]
  },
  {
   "cell_type": "code",
   "execution_count": 78,
   "metadata": {},
   "outputs": [],
   "source": [
    "llm = ChatOpenAI(model='gpt-4o-mini', api_key=config.OPENAI_API_KEY, temperature=0.2)"
   ]
  },
  {
   "cell_type": "markdown",
   "metadata": {},
   "source": [
    "Creamos una función para generar respuestas:"
   ]
  },
  {
   "cell_type": "code",
   "execution_count": 79,
   "metadata": {},
   "outputs": [],
   "source": [
    "def generate(question: str, context) -> str:\n",
    "    \"\"\"Generate a response to a question given a context.\"\"\"\n",
    "    messages = prompt.invoke({'question': question, 'context': context})\n",
    "    return llm.invoke(messages).content"
   ]
  },
  {
   "cell_type": "markdown",
   "metadata": {},
   "source": [
    "# 6. ¡Juega con el modelo!"
   ]
  },
  {
   "cell_type": "code",
   "execution_count": 80,
   "metadata": {},
   "outputs": [],
   "source": [
    "pregunta = '¿Es necesario ser chileno para ser Presidente de la República?'"
   ]
  },
  {
   "cell_type": "code",
   "execution_count": 81,
   "metadata": {},
   "outputs": [
    {
     "name": "stdout",
     "output_type": "stream",
     "text": [
      "Sí, es necesario ser chileno para ser Presidente de la República. Según el Artículo 25 de la Constitución de Chile, para ser elegido Presidente se requiere tener la nacionalidad chilena, además de cumplir con otros requisitos como tener al menos treinta y cinco años de edad y poseer las calidades necesarias para ser ciudadano con derecho a sufragio.\n",
      "\n",
      "Fuente: Artículo 25. Para ser elegido Presidente de la República se requiere tener la nacionalidad chilena de acuerdo a lo dispuesto en los números 1º ó 2º del artículo 10; tener cumplidos treinta y cinco años de edad y poseer las demás calidades necesarias para ser ciudadano con derecho a sufragio.\n"
     ]
    }
   ],
   "source": [
    "context = retrieve(pregunta)\n",
    "print(generate(pregunta, context))"
   ]
  },
  {
   "cell_type": "code",
   "execution_count": 83,
   "metadata": {},
   "outputs": [],
   "source": [
    "pregunta = '¿Cuál es el deber fundamental como chileno?'"
   ]
  },
  {
   "cell_type": "code",
   "execution_count": 84,
   "metadata": {},
   "outputs": [
    {
     "name": "stdout",
     "output_type": "stream",
     "text": [
      "El deber fundamental como chileno es \"honrar a la patria, de defender su soberanía y de contribuir a preservar la seguridad nacional y los valores esenciales de la tradición chilena\". Además, se establece que \"el servicio militar y demás cargas personales que imponga la ley son obligatorios en los términos y formas que ésta determine\".\n",
      "\n",
      "Fuente: Artículo 22.\n"
     ]
    }
   ],
   "source": [
    "context = retrieve(pregunta)\n",
    "print(generate(pregunta, context))"
   ]
  }
 ],
 "metadata": {
  "kernelspec": {
   "display_name": ".venv",
   "language": "python",
   "name": "python3"
  },
  "language_info": {
   "codemirror_mode": {
    "name": "ipython",
    "version": 3
   },
   "file_extension": ".py",
   "mimetype": "text/x-python",
   "name": "python",
   "nbconvert_exporter": "python",
   "pygments_lexer": "ipython3",
   "version": "3.11.8"
  }
 },
 "nbformat": 4,
 "nbformat_minor": 2
}
